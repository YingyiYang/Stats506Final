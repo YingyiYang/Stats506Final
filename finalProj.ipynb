{
 "cells": [
  {
   "cell_type": "code",
   "execution_count": 1,
   "metadata": {},
   "outputs": [],
   "source": [
    "## Python Script for the Final Project, Stats 506 F20\n",
    "##\n",
    "## For adults who weigh less than they were 10 years ago, what types of nutrient\n",
    "## intake and what demographic variables play an important role?\n",
    "##\n",
    "## Data source: National Health and Nutrition Examination Survey (NHANES)\n",
    "## https://wwwn.cdc.gov/Nchs/Nhanes/2015-2016\n",
    "## https://wwwn.cdc.gov/Nchs/Nhanes/2017-2018 \n",
    "##\n",
    "## Author: Yingyi Yang, yyingyi@umich.edu\n",
    "## Updated: December 6, 2020\n",
    "\n",
    "#! Limit lines to 79 characters with rare exceptions. \n",
    "# 79: -------------------------------------------------------------------------"
   ]
  },
  {
   "cell_type": "code",
   "execution_count": 2,
   "metadata": {},
   "outputs": [],
   "source": [
    "%matplotlib inline\n",
    "import pandas as pd\n",
    "import numpy as np\n",
    "import matplotlib.pyplot as plt\n",
    "import os"
   ]
  },
  {
   "cell_type": "code",
   "execution_count": 3,
   "metadata": {},
   "outputs": [],
   "source": [
    "import warnings\n",
    "def ignore_warn(*args, **kwargs):\n",
    "    pass\n",
    "warnings.warn = ignore_warn"
   ]
  },
  {
   "cell_type": "markdown",
   "metadata": {},
   "source": [
    "### 1. Data preprocessing "
   ]
  },
  {
   "cell_type": "code",
   "execution_count": 17,
   "metadata": {},
   "outputs": [],
   "source": [
    "def prep_data(year):\n",
    "    \"\"\"\n",
    "    Function to read nhanes data based on year codes and merge them into one dataframe.\n",
    "    Input: year - list of alphabet representing year of concern\n",
    "    Output: a dataframe containing required covariates and response variable\n",
    "    \"\"\"\n",
    "    \n",
    "    base = 'data/'\n",
    "    \n",
    "    files = []\n",
    "    \n",
    "    var = [\n",
    "        ['SEQN', 'RIAGENDR', 'RIDAGEYR', 'RIDRETH1', 'DMDEDUC2', 'INDHHIN2'],\n",
    "        ['SEQN', 'DR1DRSTZ', 'DR1TKCAL', 'DR1TPROT', 'DR1TCARB', 'DR1TSUGR', 'DR1TFIBE', \n",
    "         'DR1TTFAT', 'DR1TSFAT', 'DR1TMFAT', 'DR1TPFAT', 'DR1TCHOL'],\n",
    "        ['SEQN', 'WHD020', 'WHD110']\n",
    "    ]\n",
    "    \n",
    "    out = pd.DataFrame()\n",
    "    for code in year:\n",
    "        names = [x+'_'+code+'.XPT' for x in ['DEMO', 'DR1TOT', 'WHQ']]\n",
    "\n",
    "        da = []\n",
    "        for idf, fn in enumerate(names):\n",
    "            df = pd.read_sas(os.path.join(base, fn))\n",
    "            df = df.loc[:, var[idf]]\n",
    "            da.append(df)\n",
    "            \n",
    "        dx = pd.merge(da[0], da[1], left_on='SEQN', right_on='SEQN')\n",
    "        dx = pd.merge(dx, da[2], left_on='SEQN', right_on='SEQN')\n",
    "\n",
    "        # encode sex and ethnic groups\n",
    "        dx['Female'] = (dx.RIAGENDR == 2).astype(np.int)\n",
    "        #dx['RIDRETH1'] = dx.RIDRETH1.replace({1: 'Mexican American', 2: 'Other Hispanic', \n",
    "        #                                     3: 'Non-Hispanic White', 4: 'Non-Hispanic Black', \n",
    "        #                                     5: 'other'})\n",
    "        \n",
    "        dx.dropna(inplace = True)\n",
    "        out = out.append(dx)\n",
    "    \n",
    "    out['Wloss'] = (out['WHD020'] < out['WHD110']-5.0).astype(np.int)\n",
    "    out = out[out['DR1DRSTZ'] == 1]\n",
    "    del out['RIAGENDR']\n",
    "    del out['WHD020']\n",
    "    del out['WHD110']\n",
    "    del out['DR1DRSTZ']\n",
    "    out.set_index('SEQN', inplace=True)\n",
    "    \n",
    "    return out    "
   ]
  },
  {
   "cell_type": "code",
   "execution_count": 19,
   "metadata": {},
   "outputs": [
    {
     "data": {
      "text/plain": [
       "(6983, 16)"
      ]
     },
     "execution_count": 19,
     "metadata": {},
     "output_type": "execute_result"
    }
   ],
   "source": [
    "df = prep_data(['I','J'])\n",
    "df.shape"
   ]
  },
  {
   "cell_type": "code",
   "execution_count": 21,
   "metadata": {},
   "outputs": [
    {
     "data": {
      "text/html": [
       "<div>\n",
       "<style scoped>\n",
       "    .dataframe tbody tr th:only-of-type {\n",
       "        vertical-align: middle;\n",
       "    }\n",
       "\n",
       "    .dataframe tbody tr th {\n",
       "        vertical-align: top;\n",
       "    }\n",
       "\n",
       "    .dataframe thead th {\n",
       "        text-align: right;\n",
       "    }\n",
       "</style>\n",
       "<table border=\"1\" class=\"dataframe\">\n",
       "  <thead>\n",
       "    <tr style=\"text-align: right;\">\n",
       "      <th></th>\n",
       "      <th>RIDAGEYR</th>\n",
       "      <th>RIDRETH1</th>\n",
       "      <th>DMDEDUC2</th>\n",
       "      <th>INDHHIN2</th>\n",
       "      <th>DR1TKCAL</th>\n",
       "      <th>DR1TPROT</th>\n",
       "      <th>DR1TCARB</th>\n",
       "      <th>DR1TSUGR</th>\n",
       "      <th>DR1TFIBE</th>\n",
       "      <th>DR1TTFAT</th>\n",
       "      <th>DR1TSFAT</th>\n",
       "      <th>DR1TMFAT</th>\n",
       "      <th>DR1TPFAT</th>\n",
       "      <th>DR1TCHOL</th>\n",
       "      <th>Female</th>\n",
       "      <th>Wloss</th>\n",
       "    </tr>\n",
       "    <tr>\n",
       "      <th>SEQN</th>\n",
       "      <th></th>\n",
       "      <th></th>\n",
       "      <th></th>\n",
       "      <th></th>\n",
       "      <th></th>\n",
       "      <th></th>\n",
       "      <th></th>\n",
       "      <th></th>\n",
       "      <th></th>\n",
       "      <th></th>\n",
       "      <th></th>\n",
       "      <th></th>\n",
       "      <th></th>\n",
       "      <th></th>\n",
       "      <th></th>\n",
       "      <th></th>\n",
       "    </tr>\n",
       "  </thead>\n",
       "  <tbody>\n",
       "    <tr>\n",
       "      <th>83732.0</th>\n",
       "      <td>62.0</td>\n",
       "      <td>3.0</td>\n",
       "      <td>5.0</td>\n",
       "      <td>10.0</td>\n",
       "      <td>1781.0</td>\n",
       "      <td>76.03</td>\n",
       "      <td>193.29</td>\n",
       "      <td>42.31</td>\n",
       "      <td>23.6</td>\n",
       "      <td>79.24</td>\n",
       "      <td>23.430</td>\n",
       "      <td>31.897</td>\n",
       "      <td>18.528</td>\n",
       "      <td>138.0</td>\n",
       "      <td>0</td>\n",
       "      <td>1</td>\n",
       "    </tr>\n",
       "    <tr>\n",
       "      <th>83733.0</th>\n",
       "      <td>53.0</td>\n",
       "      <td>3.0</td>\n",
       "      <td>3.0</td>\n",
       "      <td>4.0</td>\n",
       "      <td>2964.0</td>\n",
       "      <td>62.36</td>\n",
       "      <td>356.85</td>\n",
       "      <td>180.84</td>\n",
       "      <td>7.3</td>\n",
       "      <td>77.91</td>\n",
       "      <td>25.722</td>\n",
       "      <td>19.098</td>\n",
       "      <td>19.216</td>\n",
       "      <td>407.0</td>\n",
       "      <td>0</td>\n",
       "      <td>0</td>\n",
       "    </tr>\n",
       "    <tr>\n",
       "      <th>83734.0</th>\n",
       "      <td>78.0</td>\n",
       "      <td>3.0</td>\n",
       "      <td>3.0</td>\n",
       "      <td>5.0</td>\n",
       "      <td>2482.0</td>\n",
       "      <td>116.50</td>\n",
       "      <td>304.53</td>\n",
       "      <td>62.87</td>\n",
       "      <td>35.1</td>\n",
       "      <td>91.97</td>\n",
       "      <td>23.122</td>\n",
       "      <td>28.666</td>\n",
       "      <td>32.561</td>\n",
       "      <td>506.0</td>\n",
       "      <td>0</td>\n",
       "      <td>1</td>\n",
       "    </tr>\n",
       "    <tr>\n",
       "      <th>83735.0</th>\n",
       "      <td>56.0</td>\n",
       "      <td>3.0</td>\n",
       "      <td>5.0</td>\n",
       "      <td>10.0</td>\n",
       "      <td>1340.0</td>\n",
       "      <td>70.38</td>\n",
       "      <td>157.99</td>\n",
       "      <td>54.77</td>\n",
       "      <td>14.0</td>\n",
       "      <td>49.23</td>\n",
       "      <td>17.593</td>\n",
       "      <td>18.327</td>\n",
       "      <td>9.588</td>\n",
       "      <td>138.0</td>\n",
       "      <td>1</td>\n",
       "      <td>0</td>\n",
       "    </tr>\n",
       "    <tr>\n",
       "      <th>83736.0</th>\n",
       "      <td>42.0</td>\n",
       "      <td>4.0</td>\n",
       "      <td>4.0</td>\n",
       "      <td>7.0</td>\n",
       "      <td>604.0</td>\n",
       "      <td>19.30</td>\n",
       "      <td>90.30</td>\n",
       "      <td>71.84</td>\n",
       "      <td>2.0</td>\n",
       "      <td>19.63</td>\n",
       "      <td>4.581</td>\n",
       "      <td>8.504</td>\n",
       "      <td>3.889</td>\n",
       "      <td>96.0</td>\n",
       "      <td>1</td>\n",
       "      <td>0</td>\n",
       "    </tr>\n",
       "  </tbody>\n",
       "</table>\n",
       "</div>"
      ],
      "text/plain": [
       "         RIDAGEYR  RIDRETH1  DMDEDUC2  INDHHIN2  DR1TKCAL  DR1TPROT  DR1TCARB  \\\n",
       "SEQN                                                                            \n",
       "83732.0      62.0       3.0       5.0      10.0    1781.0     76.03    193.29   \n",
       "83733.0      53.0       3.0       3.0       4.0    2964.0     62.36    356.85   \n",
       "83734.0      78.0       3.0       3.0       5.0    2482.0    116.50    304.53   \n",
       "83735.0      56.0       3.0       5.0      10.0    1340.0     70.38    157.99   \n",
       "83736.0      42.0       4.0       4.0       7.0     604.0     19.30     90.30   \n",
       "\n",
       "         DR1TSUGR  DR1TFIBE  DR1TTFAT  DR1TSFAT  DR1TMFAT  DR1TPFAT  DR1TCHOL  \\\n",
       "SEQN                                                                            \n",
       "83732.0     42.31      23.6     79.24    23.430    31.897    18.528     138.0   \n",
       "83733.0    180.84       7.3     77.91    25.722    19.098    19.216     407.0   \n",
       "83734.0     62.87      35.1     91.97    23.122    28.666    32.561     506.0   \n",
       "83735.0     54.77      14.0     49.23    17.593    18.327     9.588     138.0   \n",
       "83736.0     71.84       2.0     19.63     4.581     8.504     3.889      96.0   \n",
       "\n",
       "         Female  Wloss  \n",
       "SEQN                    \n",
       "83732.0       0      1  \n",
       "83733.0       0      0  \n",
       "83734.0       0      1  \n",
       "83735.0       1      0  \n",
       "83736.0       1      0  "
      ]
     },
     "execution_count": 21,
     "metadata": {},
     "output_type": "execute_result"
    }
   ],
   "source": [
    "df.head()"
   ]
  },
  {
   "cell_type": "markdown",
   "metadata": {},
   "source": [
    "### 2. Feature selection "
   ]
  },
  {
   "cell_type": "code",
   "execution_count": 8,
   "metadata": {},
   "outputs": [],
   "source": [
    "from sklearn.linear_model import LogisticRegression\n",
    "from sklearn.tree import DecisionTreeClassifier\n",
    "from sklearn.feature_selection import RFE, RFECV\n",
    "import seaborn as sns"
   ]
  },
  {
   "cell_type": "code",
   "execution_count": 22,
   "metadata": {},
   "outputs": [],
   "source": [
    "def featureSelection(data, n, method = 'Model_LR'):\n",
    "    \"\"\"\n",
    "    Function to fit model and generate features based on the input method.\n",
    "    Inputs: data - a dataframe containing covariates and response variable\n",
    "            n - an integer representing top n important features\n",
    "            method - a string containing feature selection method \n",
    "            (Model: model-based, RFE: recursive feature elimination) and model \n",
    "            (LR: logistic regression, tree: decision tree)\n",
    "    Output: a figure representing feature importance\n",
    "    \"\"\"\n",
    "    \n",
    "    X = data.iloc[:,:-1]\n",
    "    y = data.iloc[:,-1]\n",
    "    \n",
    "    if method == 'Model_LR':\n",
    "        LR = LogisticRegression()\n",
    "        LR.fit(X, y)\n",
    "        coefs = LR.coef_\n",
    "        feature_coefs = pd.DataFrame({'Feature name':X.columns.values, \n",
    "                                      'Feature coef':coefs[0]}).sort_values('Feature coef', ascending=False)\n",
    "\n",
    "        imp_coef = pd.concat([feature_coefs.head(int(n/2)),\n",
    "                             feature_coefs.tail(int(n/2))])\n",
    "\n",
    "        plt.figure(figsize=(6,6))\n",
    "        plt.title(\"Coefficients\")\n",
    "        sns.barplot(x=\"Feature coef\", y=\"Feature name\", data=imp_coef)  \n",
    "    \n",
    "    if method == 'Model_tree':\n",
    "        tree = DecisionTreeClassifier()\n",
    "        tree.fit(X, y)      \n",
    "        importances = tree.feature_importances_\n",
    "        feature_importance = pd.DataFrame({'Feature name':X.columns.values, \n",
    "                                           'Feature importance':importances}\n",
    "                                         ).sort_values('Feature importance', ascending=False)\n",
    "\n",
    "        plt.figure(figsize=(6,6))\n",
    "        plt.title(\"Feature Importance\")\n",
    "        sns.barplot(x=\"Feature importance\", y=\"Feature name\", data=feature_importance[:n])\n",
    "        \n",
    "    if method == 'RFE_LR':\n",
    "        LR = LogisticRegression()\n",
    "        trans = RFE(LR, n_features_to_select=n)\n",
    "        X_trans = trans.fit_transform(X, y)\n",
    "        columns = X.columns.values\n",
    "        print(columns[trans.get_support()])\n",
    "        for i in range(X.shape[1]):\n",
    "            print('Variable: %s, Selected %s, Rank: %.3f' % \n",
    "                  (columns[i], trans.support_[i], trans.ranking_[i]))\n",
    "        \n",
    "    if method == 'RFE_tree':\n",
    "        tree = DecisionTreeClassifier()\n",
    "        trans = RFE(tree, n_features_to_select=n)\n",
    "        X_trans = trans.fit_transform(X, y)\n",
    "        columns = X.columns.values\n",
    "        print(columns[trans.get_support()])\n",
    "        for i in range(X.shape[1]):\n",
    "            print('Variable: %s, Selected %s, Rank: %.3f' % \n",
    "                  (columns[i], trans.support_[i], trans.ranking_[i]))       "
   ]
  },
  {
   "cell_type": "markdown",
   "metadata": {},
   "source": [
    "### 3. Results visualization "
   ]
  },
  {
   "cell_type": "code",
   "execution_count": 23,
   "metadata": {},
   "outputs": [
    {
     "data": {
      "image/png": "[encoded data removed]",
      "text/plain": [
       "<Figure size 432x432 with 1 Axes>"
      ]
     },
     "metadata": {
      "needs_background": "light"
     },
     "output_type": "display_data"
    }
   ],
   "source": [
    "featureSelection(df, 6, 'Model_LR')"
   ]
  },
  {
   "cell_type": "code",
   "execution_count": 24,
   "metadata": {},
   "outputs": [
    {
     "data": {
      "image/png": "[encoded data removed]",
      "text/plain": [
       "<Figure size 432x432 with 1 Axes>"
      ]
     },
     "metadata": {
      "needs_background": "light"
     },
     "output_type": "display_data"
    }
   ],
   "source": [
    "featureSelection(df, 6, 'Model_tree')"
   ]
  },
  {
   "cell_type": "code",
   "execution_count": 25,
   "metadata": {},
   "outputs": [
    {
     "name": "stdout",
     "output_type": "stream",
     "text": [
      "['RIDAGEYR' 'DMDEDUC2' 'DR1TTFAT' 'DR1TMFAT' 'DR1TPFAT' 'Female']\n",
      "Variable: RIDAGEYR, Selected True, Rank: 1.000\n",
      "Variable: RIDRETH1, Selected False, Rank: 3.000\n",
      "Variable: DMDEDUC2, Selected True, Rank: 1.000\n",
      "Variable: INDHHIN2, Selected False, Rank: 7.000\n",
      "Variable: DR1TKCAL, Selected False, Rank: 10.000\n",
      "Variable: DR1TPROT, Selected False, Rank: 8.000\n",
      "Variable: DR1TCARB, Selected False, Rank: 5.000\n",
      "Variable: DR1TSUGR, Selected False, Rank: 6.000\n",
      "Variable: DR1TFIBE, Selected False, Rank: 4.000\n",
      "Variable: DR1TTFAT, Selected True, Rank: 1.000\n",
      "Variable: DR1TSFAT, Selected False, Rank: 2.000\n",
      "Variable: DR1TMFAT, Selected True, Rank: 1.000\n",
      "Variable: DR1TPFAT, Selected True, Rank: 1.000\n",
      "Variable: DR1TCHOL, Selected False, Rank: 9.000\n",
      "Variable: Female, Selected True, Rank: 1.000\n"
     ]
    }
   ],
   "source": [
    "featureSelection(df, 6, 'RFE_LR')"
   ]
  },
  {
   "cell_type": "code",
   "execution_count": 26,
   "metadata": {},
   "outputs": [
    {
     "name": "stdout",
     "output_type": "stream",
     "text": [
      "['DR1TKCAL' 'DR1TFIBE' 'DR1TSFAT' 'DR1TMFAT' 'DR1TPFAT' 'DR1TCHOL']\n",
      "Variable: RIDAGEYR, Selected False, Rank: 5.000\n",
      "Variable: RIDRETH1, Selected False, Rank: 8.000\n",
      "Variable: DMDEDUC2, Selected False, Rank: 9.000\n",
      "Variable: INDHHIN2, Selected False, Rank: 7.000\n",
      "Variable: DR1TKCAL, Selected True, Rank: 1.000\n",
      "Variable: DR1TPROT, Selected False, Rank: 3.000\n",
      "Variable: DR1TCARB, Selected False, Rank: 4.000\n",
      "Variable: DR1TSUGR, Selected False, Rank: 2.000\n",
      "Variable: DR1TFIBE, Selected True, Rank: 1.000\n",
      "Variable: DR1TTFAT, Selected False, Rank: 6.000\n",
      "Variable: DR1TSFAT, Selected True, Rank: 1.000\n",
      "Variable: DR1TMFAT, Selected True, Rank: 1.000\n",
      "Variable: DR1TPFAT, Selected True, Rank: 1.000\n",
      "Variable: DR1TCHOL, Selected True, Rank: 1.000\n",
      "Variable: Female, Selected False, Rank: 10.000\n"
     ]
    }
   ],
   "source": [
    "featureSelection(df, 6, 'RFE_tree')"
   ]
  }
 ],
 "metadata": {
  "kernelspec": {
   "display_name": "Python 3",
   "language": "python",
   "name": "python3"
  },
  "language_info": {
   "codemirror_mode": {
    "name": "ipython",
    "version": 3
   },
   "file_extension": ".py",
   "mimetype": "text/x-python",
   "name": "python",
   "nbconvert_exporter": "python",
   "pygments_lexer": "ipython3",
   "version": "3.7.7"
  }
 },
 "nbformat": 4,
 "nbformat_minor": 4
}
