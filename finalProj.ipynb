{
 "cells": [
  {
   "cell_type": "code",
   "execution_count": 1,
   "metadata": {},
   "outputs": [],
   "source": [
    "## Python Script for the Final Project, Stats 506 F20\n",
    "##\n",
    "## For adults who weigh less than they were 10 years ago, what nutrient\n",
    "## intake and demographic factors are important for them now?\n",
    "##\n",
    "## Data source: National Health and Nutrition Examination Survey (NHANES)\n",
    "## https://wwwn.cdc.gov/Nchs/Nhanes/2015-2016\n",
    "## https://wwwn.cdc.gov/Nchs/Nhanes/2017-2018 \n",
    "##\n",
    "## Author: Yingyi Yang, yyingyi@umich.edu\n",
    "## Updated: December 15, 2020\n",
    "\n",
    "#! Limit lines to 79 characters with rare exceptions. \n",
    "# 79: -------------------------------------------------------------------------"
   ]
  },
  {
   "cell_type": "code",
   "execution_count": 3,
   "metadata": {},
   "outputs": [],
   "source": [
    "%matplotlib inline\n",
    "import pandas as pd\n",
    "import numpy as np\n",
    "import os\n",
    "import matplotlib.pyplot as plt"
   ]
  },
  {
   "cell_type": "code",
   "execution_count": 4,
   "metadata": {},
   "outputs": [],
   "source": [
    "import warnings\n",
    "def ignore_warn(*args, **kwargs):\n",
    "    pass\n",
    "warnings.warn = ignore_warn"
   ]
  },
  {
   "cell_type": "markdown",
   "metadata": {},
   "source": [
    "### 1. Data preprocessing "
   ]
  },
  {
   "cell_type": "code",
   "execution_count": 5,
   "metadata": {},
   "outputs": [],
   "source": [
    "def prep_data(year):\n",
    "    \"\"\"\n",
    "    Function to read nhanes data based on year codes and merge them into one \n",
    "    dataframe.\n",
    "    Input: year - list of alphabet representing year of concern\n",
    "    Output: a dataframe containing required covariates and response variable\n",
    "    \"\"\"\n",
    "    \n",
    "    base = 'data/'\n",
    "    \n",
    "    files = []\n",
    "    \n",
    "    var = [\n",
    "        ['SEQN', 'RIAGENDR', 'RIDAGEYR', 'DMDEDUC2', 'INDHHIN2'],\n",
    "        ['SEQN', 'DR1DRSTZ', 'DR1TKCAL', 'DR1TPROT', 'DR1TCARB', 'DR1TSUGR', \n",
    "         'DR1TFIBE', 'DR1TTFAT', 'DR1TSFAT', 'DR1TMFAT', 'DR1TPFAT', 'DR1TCHOL'],\n",
    "        ['SEQN', 'WHD020', 'WHD110']\n",
    "    ]\n",
    "    \n",
    "    out = pd.DataFrame()\n",
    "    for code in year:\n",
    "        names = [x+'_'+code+'.XPT' for x in ['DEMO', 'DR1TOT', 'WHQ']]\n",
    "\n",
    "        da = []\n",
    "        for idf, fn in enumerate(names):\n",
    "            df = pd.read_sas(os.path.join(base, fn))\n",
    "            df = df.loc[:, var[idf]]\n",
    "            da.append(df)\n",
    "            \n",
    "        dx = pd.merge(da[0], da[1], left_on='SEQN', right_on='SEQN')\n",
    "        dx = pd.merge(dx, da[2], left_on='SEQN', right_on='SEQN')\n",
    "\n",
    "        # encode sex groups\n",
    "        dx['Female'] = (dx.RIAGENDR == 2).astype(np.int)   \n",
    "        \n",
    "        dx.dropna(inplace = True)\n",
    "        out = out.append(dx)\n",
    "    \n",
    "    out['Wloss'] = (out['WHD020'] < out['WHD110']-5.0).astype(np.int)\n",
    "    \n",
    "    # remove values that are not reliable\n",
    "    out = out[(out['DR1DRSTZ'] == 1) & (out['DMDEDUC2'] <= 5) &\n",
    "             (out['INDHHIN2'] <= 15)]\n",
    "    out.drop(['SEQN', 'RIAGENDR', 'WHD020', 'WHD110', 'DR1DRSTZ'], \n",
    "             axis=1, inplace=True)\n",
    "\n",
    "    out.rename(columns={'RIAGENDR': 'Gender',\n",
    "                        'RIDAGEYR': 'Age',\n",
    "                        'DMDEDUC2': 'Education',\n",
    "                        'INDHHIN2': 'Household income',\n",
    "                        'DR1TKCAL': 'Energy',\n",
    "                        'DR1TPROT': 'Protein', \n",
    "                        'DR1TCARB': 'Carbohydrate',\n",
    "                        'DR1TSUGR': 'Sugars',\n",
    "                        'DR1TFIBE': 'Fiber',\n",
    "                        'DR1TTFAT': 'Fat',\n",
    "                        'DR1TSFAT': 'Saturated fatty acids',\n",
    "                        'DR1TMFAT': 'Monounsaturated fatty acids',\n",
    "                        'DR1TPFAT': 'Polyunsaturated fatty acids',\n",
    "                        'DR1TCHOL': 'Cholesterol'}, inplace=True)\n",
    "    \n",
    "    return out    "
   ]
  },
  {
   "cell_type": "code",
   "execution_count": 6,
   "metadata": {},
   "outputs": [
    {
     "data": {
      "text/plain": [
       "(6711, 15)"
      ]
     },
     "execution_count": 6,
     "metadata": {},
     "output_type": "execute_result"
    }
   ],
   "source": [
    "df = prep_data(['I','J'])\n",
    "df.shape"
   ]
  },
  {
   "cell_type": "code",
   "execution_count": 14,
   "metadata": {},
   "outputs": [
    {
     "data": {
      "text/html": [
       "<div>\n",
       "<style scoped>\n",
       "    .dataframe tbody tr th:only-of-type {\n",
       "        vertical-align: middle;\n",
       "    }\n",
       "\n",
       "    .dataframe tbody tr th {\n",
       "        vertical-align: top;\n",
       "    }\n",
       "\n",
       "    .dataframe thead th {\n",
       "        text-align: right;\n",
       "    }\n",
       "</style>\n",
       "<table border=\"1\" class=\"dataframe\">\n",
       "  <thead>\n",
       "    <tr style=\"text-align: right;\">\n",
       "      <th></th>\n",
       "      <th>Age</th>\n",
       "      <th>Education</th>\n",
       "      <th>Household income</th>\n",
       "      <th>Energy</th>\n",
       "      <th>Protein</th>\n",
       "      <th>Carbohydrate</th>\n",
       "      <th>Sugars</th>\n",
       "      <th>Fiber</th>\n",
       "      <th>Fat</th>\n",
       "      <th>Saturated fatty acids</th>\n",
       "      <th>Monounsaturated fatty acids</th>\n",
       "      <th>Polyunsaturated fatty acids</th>\n",
       "      <th>Cholesterol</th>\n",
       "      <th>Female</th>\n",
       "      <th>Wloss</th>\n",
       "    </tr>\n",
       "  </thead>\n",
       "  <tbody>\n",
       "    <tr>\n",
       "      <th>count</th>\n",
       "      <td>6711.000000</td>\n",
       "      <td>6711.000000</td>\n",
       "      <td>6711.000000</td>\n",
       "      <td>6711.000000</td>\n",
       "      <td>6.711000e+03</td>\n",
       "      <td>6711.000000</td>\n",
       "      <td>6711.000000</td>\n",
       "      <td>6.711000e+03</td>\n",
       "      <td>6.711000e+03</td>\n",
       "      <td>6.711000e+03</td>\n",
       "      <td>6.711000e+03</td>\n",
       "      <td>6.711000e+03</td>\n",
       "      <td>6.711000e+03</td>\n",
       "      <td>6711.000000</td>\n",
       "      <td>6711.000000</td>\n",
       "    </tr>\n",
       "    <tr>\n",
       "      <th>mean</th>\n",
       "      <td>58.217404</td>\n",
       "      <td>3.458948</td>\n",
       "      <td>8.765907</td>\n",
       "      <td>2039.135598</td>\n",
       "      <td>7.806023e+01</td>\n",
       "      <td>240.336953</td>\n",
       "      <td>102.646728</td>\n",
       "      <td>1.700720e+01</td>\n",
       "      <td>8.122784e+01</td>\n",
       "      <td>2.606828e+01</td>\n",
       "      <td>2.847412e+01</td>\n",
       "      <td>1.906056e+01</td>\n",
       "      <td>3.021512e+02</td>\n",
       "      <td>0.514230</td>\n",
       "      <td>0.276561</td>\n",
       "    </tr>\n",
       "    <tr>\n",
       "      <th>std</th>\n",
       "      <td>13.073219</td>\n",
       "      <td>1.273509</td>\n",
       "      <td>4.437431</td>\n",
       "      <td>928.826103</td>\n",
       "      <td>4.044824e+01</td>\n",
       "      <td>116.882857</td>\n",
       "      <td>71.519438</td>\n",
       "      <td>1.079495e+01</td>\n",
       "      <td>4.559851e+01</td>\n",
       "      <td>1.648985e+01</td>\n",
       "      <td>1.687224e+01</td>\n",
       "      <td>1.247847e+01</td>\n",
       "      <td>2.439198e+02</td>\n",
       "      <td>0.499835</td>\n",
       "      <td>0.447331</td>\n",
       "    </tr>\n",
       "    <tr>\n",
       "      <th>min</th>\n",
       "      <td>36.000000</td>\n",
       "      <td>1.000000</td>\n",
       "      <td>1.000000</td>\n",
       "      <td>14.000000</td>\n",
       "      <td>5.397605e-79</td>\n",
       "      <td>1.000000</td>\n",
       "      <td>0.500000</td>\n",
       "      <td>5.397605e-79</td>\n",
       "      <td>5.397605e-79</td>\n",
       "      <td>5.397605e-79</td>\n",
       "      <td>5.397605e-79</td>\n",
       "      <td>5.397605e-79</td>\n",
       "      <td>5.397605e-79</td>\n",
       "      <td>0.000000</td>\n",
       "      <td>0.000000</td>\n",
       "    </tr>\n",
       "    <tr>\n",
       "      <th>25%</th>\n",
       "      <td>47.000000</td>\n",
       "      <td>3.000000</td>\n",
       "      <td>5.000000</td>\n",
       "      <td>1396.000000</td>\n",
       "      <td>5.095500e+01</td>\n",
       "      <td>160.680000</td>\n",
       "      <td>54.900000</td>\n",
       "      <td>9.400000e+00</td>\n",
       "      <td>4.936000e+01</td>\n",
       "      <td>1.461800e+01</td>\n",
       "      <td>1.671150e+01</td>\n",
       "      <td>1.039700e+01</td>\n",
       "      <td>1.290000e+02</td>\n",
       "      <td>0.000000</td>\n",
       "      <td>0.000000</td>\n",
       "    </tr>\n",
       "    <tr>\n",
       "      <th>50%</th>\n",
       "      <td>59.000000</td>\n",
       "      <td>4.000000</td>\n",
       "      <td>8.000000</td>\n",
       "      <td>1897.000000</td>\n",
       "      <td>7.090000e+01</td>\n",
       "      <td>222.530000</td>\n",
       "      <td>87.970000</td>\n",
       "      <td>1.480000e+01</td>\n",
       "      <td>7.336000e+01</td>\n",
       "      <td>2.269100e+01</td>\n",
       "      <td>2.537300e+01</td>\n",
       "      <td>1.647300e+01</td>\n",
       "      <td>2.330000e+02</td>\n",
       "      <td>1.000000</td>\n",
       "      <td>0.000000</td>\n",
       "    </tr>\n",
       "    <tr>\n",
       "      <th>75%</th>\n",
       "      <td>68.000000</td>\n",
       "      <td>4.000000</td>\n",
       "      <td>14.000000</td>\n",
       "      <td>2521.500000</td>\n",
       "      <td>9.805000e+01</td>\n",
       "      <td>297.540000</td>\n",
       "      <td>132.820000</td>\n",
       "      <td>2.210000e+01</td>\n",
       "      <td>1.034550e+02</td>\n",
       "      <td>3.414150e+01</td>\n",
       "      <td>3.649200e+01</td>\n",
       "      <td>2.452350e+01</td>\n",
       "      <td>4.150000e+02</td>\n",
       "      <td>1.000000</td>\n",
       "      <td>1.000000</td>\n",
       "    </tr>\n",
       "    <tr>\n",
       "      <th>max</th>\n",
       "      <td>80.000000</td>\n",
       "      <td>5.000000</td>\n",
       "      <td>15.000000</td>\n",
       "      <td>8500.000000</td>\n",
       "      <td>5.452000e+02</td>\n",
       "      <td>1222.340000</td>\n",
       "      <td>980.920000</td>\n",
       "      <td>1.034000e+02</td>\n",
       "      <td>4.052200e+02</td>\n",
       "      <td>1.491460e+02</td>\n",
       "      <td>1.596990e+02</td>\n",
       "      <td>1.015430e+02</td>\n",
       "      <td>2.968000e+03</td>\n",
       "      <td>1.000000</td>\n",
       "      <td>1.000000</td>\n",
       "    </tr>\n",
       "  </tbody>\n",
       "</table>\n",
       "</div>"
      ],
      "text/plain": [
       "               Age    Education  Household income       Energy       Protein  \\\n",
       "count  6711.000000  6711.000000       6711.000000  6711.000000  6.711000e+03   \n",
       "mean     58.217404     3.458948          8.765907  2039.135598  7.806023e+01   \n",
       "std      13.073219     1.273509          4.437431   928.826103  4.044824e+01   \n",
       "min      36.000000     1.000000          1.000000    14.000000  5.397605e-79   \n",
       "25%      47.000000     3.000000          5.000000  1396.000000  5.095500e+01   \n",
       "50%      59.000000     4.000000          8.000000  1897.000000  7.090000e+01   \n",
       "75%      68.000000     4.000000         14.000000  2521.500000  9.805000e+01   \n",
       "max      80.000000     5.000000         15.000000  8500.000000  5.452000e+02   \n",
       "\n",
       "       Carbohydrate       Sugars         Fiber           Fat  \\\n",
       "count   6711.000000  6711.000000  6.711000e+03  6.711000e+03   \n",
       "mean     240.336953   102.646728  1.700720e+01  8.122784e+01   \n",
       "std      116.882857    71.519438  1.079495e+01  4.559851e+01   \n",
       "min        1.000000     0.500000  5.397605e-79  5.397605e-79   \n",
       "25%      160.680000    54.900000  9.400000e+00  4.936000e+01   \n",
       "50%      222.530000    87.970000  1.480000e+01  7.336000e+01   \n",
       "75%      297.540000   132.820000  2.210000e+01  1.034550e+02   \n",
       "max     1222.340000   980.920000  1.034000e+02  4.052200e+02   \n",
       "\n",
       "       Saturated fatty acids  Monounsaturated fatty acids  \\\n",
       "count           6.711000e+03                 6.711000e+03   \n",
       "mean            2.606828e+01                 2.847412e+01   \n",
       "std             1.648985e+01                 1.687224e+01   \n",
       "min             5.397605e-79                 5.397605e-79   \n",
       "25%             1.461800e+01                 1.671150e+01   \n",
       "50%             2.269100e+01                 2.537300e+01   \n",
       "75%             3.414150e+01                 3.649200e+01   \n",
       "max             1.491460e+02                 1.596990e+02   \n",
       "\n",
       "       Polyunsaturated fatty acids   Cholesterol       Female        Wloss  \n",
       "count                 6.711000e+03  6.711000e+03  6711.000000  6711.000000  \n",
       "mean                  1.906056e+01  3.021512e+02     0.514230     0.276561  \n",
       "std                   1.247847e+01  2.439198e+02     0.499835     0.447331  \n",
       "min                   5.397605e-79  5.397605e-79     0.000000     0.000000  \n",
       "25%                   1.039700e+01  1.290000e+02     0.000000     0.000000  \n",
       "50%                   1.647300e+01  2.330000e+02     1.000000     0.000000  \n",
       "75%                   2.452350e+01  4.150000e+02     1.000000     1.000000  \n",
       "max                   1.015430e+02  2.968000e+03     1.000000     1.000000  "
      ]
     },
     "execution_count": 14,
     "metadata": {},
     "output_type": "execute_result"
    }
   ],
   "source": [
    "df.describe()"
   ]
  },
  {
   "cell_type": "code",
   "execution_count": 16,
   "metadata": {},
   "outputs": [],
   "source": [
    "df.describe().T.to_csv('results/description.csv')"
   ]
  },
  {
   "cell_type": "markdown",
   "metadata": {},
   "source": [
    "### 2. Feature selection "
   ]
  },
  {
   "cell_type": "code",
   "execution_count": 8,
   "metadata": {},
   "outputs": [],
   "source": [
    "from sklearn import preprocessing\n",
    "from sklearn.linear_model import LogisticRegression\n",
    "from sklearn.tree import DecisionTreeClassifier\n",
    "import statsmodels.api as sm\n",
    "from sklearn.feature_selection import RFE\n",
    "import seaborn as sns"
   ]
  },
  {
   "cell_type": "code",
   "execution_count": 9,
   "metadata": {},
   "outputs": [],
   "source": [
    "def featureSelection(data, n, method = 'Model_LR'):\n",
    "    \"\"\"\n",
    "    Function to fit model and generate features based on the input method.\n",
    "    Inputs: data - a dataframe containing covariates and response variable\n",
    "            n - an integer representing top n important features\n",
    "            method - a string containing feature selection method \n",
    "            (Model: model-based, RFE: recursive feature elimination) and model \n",
    "            (LR: logistic regression, tree: decision tree)\n",
    "    Output: a figure or dataframe representing selected features\n",
    "    \"\"\"\n",
    " \n",
    "    X = data.iloc[:,:-1]\n",
    "    y = data.iloc[:,-1]\n",
    "    \n",
    "    # standardize columns of X\n",
    "    scaler = preprocessing.StandardScaler()\n",
    "    scaled_X = scaler.fit_transform(X)\n",
    "    X = pd.DataFrame(scaled_X, columns=X.columns)\n",
    "    \n",
    "    if method == 'Model_LR':\n",
    "        LR = sm.Logit(y.values.reshape(-1,1), X).fit()\n",
    "        \n",
    "        # select significant variables\n",
    "        idx = (LR.pvalues < 0.1)\n",
    "        coeffs = pd.DataFrame({'Feature coeffs':LR.params[idx]})\n",
    "        \n",
    "        coeffs = coeffs.iloc[(-coeffs['Feature coeffs'].abs()).argsort()\n",
    "                   ].reset_index(level=0).rename(\n",
    "                     columns={'index':'Feature name'}).iloc[:n,:]\n",
    "        \n",
    "        # output results\n",
    "        coeffs.to_csv('results/Model_LR.csv')\n",
    "\n",
    "        plt.figure(figsize=(6,6))\n",
    "        plt.title(\"Coefficients\")\n",
    "        sns.barplot(x=\"Feature coeffs\", y=\"Feature name\", \n",
    "                    data=coeffs, palette='Blues')  \n",
    "    \n",
    "    if method == 'Model_tree':\n",
    "        tree = DecisionTreeClassifier()\n",
    "        tree.fit(X, y)      \n",
    "        importances = tree.feature_importances_\n",
    "        imp_df = pd.DataFrame({'Feature name':X.columns.values, \n",
    "                               'Feature importance':importances}\n",
    "                             ).sort_values('Feature importance', \n",
    "                                           ascending=False).iloc[:n,:]\n",
    "        \n",
    "        # output results\n",
    "        imp_df.to_csv('results/Model_tree.csv')\n",
    "\n",
    "        plt.figure(figsize=(6,6))\n",
    "        plt.title(\"Feature Importance\")\n",
    "        sns.barplot(x=\"Feature importance\", y=\"Feature name\", \n",
    "                    data=imp_df, palette='Blues')\n",
    "        \n",
    "    if method == 'RFE_LR':\n",
    "        LR = LogisticRegression()\n",
    "        trans = RFE(LR, n_features_to_select=n)\n",
    "        X_trans = trans.fit_transform(X, y)\n",
    "        features = X.columns.values[trans.get_support()]\n",
    "        imp_df = pd.DataFrame(features)\n",
    "        \n",
    "        # output results\n",
    "        imp_df.to_csv('results/RFE_LR.csv')\n",
    "   \n",
    "        for i in range(X.shape[1]):\n",
    "            print('Variable: %s, Selected %s, Rank: %.3f' % \n",
    "                  (X.columns.values[i], trans.support_[i], trans.ranking_[i]))\n",
    "        \n",
    "    if method == 'RFE_tree':\n",
    "        tree = DecisionTreeClassifier()\n",
    "        trans = RFE(tree, n_features_to_select=n)\n",
    "        X_trans = trans.fit_transform(X, y)\n",
    "        features = X.columns.values[trans.get_support()]\n",
    "        imp_df = pd.DataFrame(features)\n",
    "        \n",
    "        # output results\n",
    "        imp_df.to_csv('results/RFE_tree.csv')\n",
    "        \n",
    "        for i in range(X.shape[1]):\n",
    "            print('Variable: %s, Selected %s, Rank: %.3f' % \n",
    "                  (X.columns.values[i], trans.support_[i], trans.ranking_[i]))       "
   ]
  },
  {
   "cell_type": "markdown",
   "metadata": {},
   "source": [
    "### 3. Results visualization "
   ]
  },
  {
   "cell_type": "code",
   "execution_count": 20,
   "metadata": {},
   "outputs": [
    {
     "name": "stdout",
     "output_type": "stream",
     "text": [
      "Optimization terminated successfully.\n",
      "         Current function value: 0.676256\n",
      "         Iterations 4\n"
     ]
    },
    {
     "data": {
      "image/png": "[encoded data removed]",
      "text/plain": [
       "<Figure size 432x432 with 1 Axes>"
      ]
     },
     "metadata": {
      "needs_background": "light"
     },
     "output_type": "display_data"
    }
   ],
   "source": [
    "featureSelection(df, 5, 'Model_LR')"
   ]
  },
  {
   "cell_type": "code",
   "execution_count": 19,
   "metadata": {},
   "outputs": [
    {
     "data": {
      "image/png": "[encoded data removed]",
      "text/plain": [
       "<Figure size 432x432 with 1 Axes>"
      ]
     },
     "metadata": {
      "needs_background": "light"
     },
     "output_type": "display_data"
    }
   ],
   "source": [
    "featureSelection(df, 5, 'Model_tree')"
   ]
  },
  {
   "cell_type": "code",
   "execution_count": 18,
   "metadata": {},
   "outputs": [
    {
     "name": "stdout",
     "output_type": "stream",
     "text": [
      "Variable: Age, Selected True, Rank: 1.000\n",
      "Variable: Education, Selected False, Rank: 3.000\n",
      "Variable: Household income, Selected False, Rank: 6.000\n",
      "Variable: Energy, Selected True, Rank: 1.000\n",
      "Variable: Protein, Selected False, Rank: 7.000\n",
      "Variable: Carbohydrate, Selected False, Rank: 10.000\n",
      "Variable: Sugars, Selected False, Rank: 8.000\n",
      "Variable: Fiber, Selected False, Rank: 5.000\n",
      "Variable: Fat, Selected True, Rank: 1.000\n",
      "Variable: Saturated fatty acids, Selected False, Rank: 4.000\n",
      "Variable: Monounsaturated fatty acids, Selected True, Rank: 1.000\n",
      "Variable: Polyunsaturated fatty acids, Selected False, Rank: 2.000\n",
      "Variable: Cholesterol, Selected False, Rank: 9.000\n",
      "Variable: Female, Selected True, Rank: 1.000\n"
     ]
    }
   ],
   "source": [
    "featureSelection(df, 5, 'RFE_LR')"
   ]
  },
  {
   "cell_type": "code",
   "execution_count": 21,
   "metadata": {},
   "outputs": [
    {
     "name": "stdout",
     "output_type": "stream",
     "text": [
      "Variable: Age, Selected False, Rank: 6.000\n",
      "Variable: Education, Selected False, Rank: 9.000\n",
      "Variable: Household income, Selected False, Rank: 8.000\n",
      "Variable: Energy, Selected False, Rank: 3.000\n",
      "Variable: Protein, Selected False, Rank: 4.000\n",
      "Variable: Carbohydrate, Selected True, Rank: 1.000\n",
      "Variable: Sugars, Selected True, Rank: 1.000\n",
      "Variable: Fiber, Selected False, Rank: 2.000\n",
      "Variable: Fat, Selected False, Rank: 7.000\n",
      "Variable: Saturated fatty acids, Selected True, Rank: 1.000\n",
      "Variable: Monounsaturated fatty acids, Selected True, Rank: 1.000\n",
      "Variable: Polyunsaturated fatty acids, Selected False, Rank: 5.000\n",
      "Variable: Cholesterol, Selected True, Rank: 1.000\n",
      "Variable: Female, Selected False, Rank: 10.000\n"
     ]
    }
   ],
   "source": [
    "featureSelection(df, 5, 'RFE_tree')"
   ]
  }
 ],
 "metadata": {
  "kernelspec": {
   "display_name": "Python 3",
   "language": "python",
   "name": "python3"
  },
  "language_info": {
   "codemirror_mode": {
    "name": "ipython",
    "version": 3
   },
   "file_extension": ".py",
   "mimetype": "text/x-python",
   "name": "python",
   "nbconvert_exporter": "python",
   "pygments_lexer": "ipython3",
   "version": "3.7.7"
  }
 },
 "nbformat": 4,
 "nbformat_minor": 4
}
