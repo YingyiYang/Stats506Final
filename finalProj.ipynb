{
 "cells": [
  {
   "cell_type": "code",
   "execution_count": null,
   "metadata": {},
   "outputs": [],
   "source": [
    "## Python Script for the Final Project, Stats 506 F20\n",
    "##\n",
    "## For adults who weigh less than they were 10 years ago, what types of nutrient\n",
    "## intake and what demographic variables play an important role?\n",
    "##\n",
    "## Data source: National Health and Nutrition Examination Survey (NHANES)\n",
    "## https://wwwn.cdc.gov/Nchs/Nhanes/2015-2016\n",
    "## https://wwwn.cdc.gov/Nchs/Nhanes/2017-2018 \n",
    "##\n",
    "## Author: Yingyi Yang, yyingyi@umich.edu\n",
    "## Updated: December 6, 2020\n",
    "\n",
    "#! Limit lines to 79 characters with rare exceptions. \n",
    "# 79: -------------------------------------------------------------------------"
   ]
  },
  {
   "cell_type": "code",
   "execution_count": 86,
   "metadata": {},
   "outputs": [],
   "source": [
    "%matplotlib inline\n",
    "import pandas as pd\n",
    "import numpy as np\n",
    "import matplotlib.pyplot as plt\n",
    "import os"
   ]
  },
  {
   "cell_type": "code",
   "execution_count": 113,
   "metadata": {},
   "outputs": [],
   "source": [
    "import warnings\n",
    "def ignore_warn(*args, **kwargs):\n",
    "    pass\n",
    "warnings.warn = ignore_warn"
   ]
  },
  {
   "cell_type": "markdown",
   "metadata": {},
   "source": [
    "### 1. Data preprocessing "
   ]
  },
  {
   "cell_type": "code",
   "execution_count": 89,
   "metadata": {},
   "outputs": [],
   "source": [
    "def prep_data(year):\n",
    "    \n",
    "    base = 'data/'\n",
    "    \n",
    "    files = []\n",
    "    \n",
    "    var = [\n",
    "        ['SEQN', 'RIDSTATR', 'RIAGENDR', 'RIDAGEYR', 'RIDRETH1', 'DMDEDUC2', 'INDHHIN2'],\n",
    "        ['SEQN', 'DR1DRSTZ', 'DR1TKCAL', 'DR1TPROT', 'DR1TCARB', 'DR1TSUGR', 'DR1TFIBE', \n",
    "         'DR1TTFAT', 'DR1TCHOL'],\n",
    "        ['SEQN', 'WHD020', 'WHD110']\n",
    "    ]\n",
    "    \n",
    "    out = pd.DataFrame()\n",
    "    for code in year:\n",
    "        names = [x+'_'+code+'.XPT' for x in ['DEMO', 'DR1TOT', 'WHQ']]\n",
    "\n",
    "        da = []\n",
    "        for idf, fn in enumerate(names):\n",
    "            df = pd.read_sas(os.path.join(base, fn))\n",
    "            df = df.loc[:, var[idf]]\n",
    "            da.append(df)\n",
    "            \n",
    "        dx = pd.merge(da[0], da[1], left_on='SEQN', right_on='SEQN')\n",
    "        dx = pd.merge(dx, da[2], left_on='SEQN', right_on='SEQN')\n",
    "\n",
    "        # encode sex and ethnic groups\n",
    "        dx['Female'] = (dx.RIAGENDR == 2).astype(np.int)\n",
    "        #dx['RIDRETH1'] = dx.RIDRETH1.replace({1: 'Mexican American', 2: 'Other Hispanic', \n",
    "        #                                      3: 'Non-Hispanic White', 4: 'Non-Hispanic Black', \n",
    "        #                                      5: 'other'})\n",
    "        \n",
    "        dx.dropna(inplace = True)\n",
    "        out = out.append(dx)\n",
    "    \n",
    "    out['Wloss'] = (out['WHD020'] < out['WHD110']-5.0).astype(np.int)\n",
    "    del out['RIAGENDR']\n",
    "    del out['WHD020']\n",
    "    del out['WHD110']\n",
    "    out.set_index('SEQN', inplace=True)\n",
    "    \n",
    "    return out    "
   ]
  },
  {
   "cell_type": "code",
   "execution_count": 90,
   "metadata": {},
   "outputs": [
    {
     "data": {
      "text/plain": [
       "(6983, 15)"
      ]
     },
     "execution_count": 90,
     "metadata": {},
     "output_type": "execute_result"
    }
   ],
   "source": [
    "df = prep_data(['I','J'])\n",
    "df.shape"
   ]
  },
  {
   "cell_type": "markdown",
   "metadata": {},
   "source": [
    "### 2. Feature selection "
   ]
  },
  {
   "cell_type": "code",
   "execution_count": 97,
   "metadata": {},
   "outputs": [],
   "source": [
    "from sklearn.linear_model import LogisticRegression\n",
    "from sklearn.tree import DecisionTreeClassifier\n",
    "from sklearn.feature_selection import RFE, RFECV\n",
    "import seaborn as sns"
   ]
  },
  {
   "cell_type": "code",
   "execution_count": 122,
   "metadata": {},
   "outputs": [],
   "source": [
    "def featureSelection(data, n, method = 'Model_LR'):\n",
    "    \n",
    "    X = data.iloc[:,:-1]\n",
    "    y = data.iloc[:,-1]\n",
    "    \n",
    "    if method == 'Model_LR':\n",
    "        LR = LogisticRegression()\n",
    "        LR.fit(X, y)\n",
    "        coefs = LR.coef_\n",
    "        feature_coefs = pd.DataFrame({'Feature name':X.columns.values, \n",
    "                                      'Feature coef':coefs[0]}).sort_values('Feature coef', ascending=False)\n",
    "\n",
    "        imp_coef = pd.concat([feature_coefs.head(int(n/2)),\n",
    "                             feature_coefs.tail(int(n/2))])\n",
    "\n",
    "        plt.figure(figsize=(6,6))\n",
    "        plt.title(\"Coefficients\")\n",
    "        sns.barplot(x=\"Feature coef\", y=\"Feature name\", data=imp_coef)  \n",
    "    \n",
    "    if method == 'Model_tree':\n",
    "        tree = DecisionTreeClassifier()\n",
    "        tree.fit(X, y)      \n",
    "        importances = tree.feature_importances_\n",
    "        feature_importance = pd.DataFrame({'Feature name':X.columns.values, \n",
    "                                           'Feature importance':importances}\n",
    "                                         ).sort_values('Feature importance', ascending=False)\n",
    "\n",
    "        plt.figure(figsize=(6,6))\n",
    "        plt.title(\"Feature Importance\")\n",
    "        sns.barplot(x=\"Feature importance\", y=\"Feature name\", data=feature_importance[:n])\n",
    "        \n",
    "    if method == 'RFE_LR':\n",
    "        LR = LogisticRegression()\n",
    "        trans = RFE(LR, n_features_to_select=n)\n",
    "        X_trans = trans.fit_transform(X, y)\n",
    "        print(trans)\n",
    "        columns_retained = data.iloc[:,:-1].columns[trans.get_support()].values\n",
    "        print(columns_retained)\n",
    "        \n",
    "    if method == 'RFE_tree':\n",
    "        tree = DecisionTreeClassifier()\n",
    "        trans = RFE(tree, n_features_to_select=n)\n",
    "        X_trans = trans.fit_transform(X, y)\n",
    "        columns_retained = data.iloc[:,:-1].columns[trans.get_support()].values\n",
    "        print(columns_retained)        "
   ]
  },
  {
   "cell_type": "markdown",
   "metadata": {},
   "source": [
    "### 3. Results visualization "
   ]
  },
  {
   "cell_type": "code",
   "execution_count": 116,
   "metadata": {},
   "outputs": [
    {
     "data": {
      "image/png": "[encoded data removed]",
      "text/plain": [
       "<Figure size 432x432 with 1 Axes>"
      ]
     },
     "metadata": {
      "needs_background": "light"
     },
     "output_type": "display_data"
    }
   ],
   "source": [
    "featureSelection(df, 10, 'Model_LR')"
   ]
  },
  {
   "cell_type": "code",
   "execution_count": 117,
   "metadata": {},
   "outputs": [
    {
     "data": {
      "image/png": "[encoded data removed]",
      "text/plain": [
       "<Figure size 432x432 with 1 Axes>"
      ]
     },
     "metadata": {
      "needs_background": "light"
     },
     "output_type": "display_data"
    }
   ],
   "source": [
    "featureSelection(df, 10, 'Model_tree')"
   ]
  },
  {
   "cell_type": "code",
   "execution_count": 123,
   "metadata": {},
   "outputs": [
    {
     "name": "stdout",
     "output_type": "stream",
     "text": [
      "RFE(estimator=LogisticRegression(), n_features_to_select=10)\n",
      "['RIDSTATR' 'RIDAGEYR' 'RIDRETH1' 'DMDEDUC2' 'INDHHIN2' 'DR1DRSTZ'\n",
      " 'DR1TPROT' 'DR1TFIBE' 'DR1TTFAT' 'Female']\n"
     ]
    }
   ],
   "source": [
    "featureSelection(df, 10, 'RFE_LR')"
   ]
  },
  {
   "cell_type": "code",
   "execution_count": 119,
   "metadata": {},
   "outputs": [
    {
     "name": "stdout",
     "output_type": "stream",
     "text": [
      "['RIDAGEYR' 'RIDRETH1' 'INDHHIN2' 'DR1TKCAL' 'DR1TPROT' 'DR1TCARB'\n",
      " 'DR1TSUGR' 'DR1TFIBE' 'DR1TTFAT' 'DR1TCHOL']\n"
     ]
    }
   ],
   "source": [
    "featureSelection(df, 10, 'RFE_tree')"
   ]
  }
 ],
 "metadata": {
  "kernelspec": {
   "display_name": "Python 3",
   "language": "python",
   "name": "python3"
  },
  "language_info": {
   "codemirror_mode": {
    "name": "ipython",
    "version": 3
   },
   "file_extension": ".py",
   "mimetype": "text/x-python",
   "name": "python",
   "nbconvert_exporter": "python",
   "pygments_lexer": "ipython3",
   "version": "3.7.7"
  }
 },
 "nbformat": 4,
 "nbformat_minor": 4
}
