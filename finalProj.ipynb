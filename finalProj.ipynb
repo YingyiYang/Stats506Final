{
 "cells": [
  {
   "cell_type": "code",
   "execution_count": 1,
   "metadata": {},
   "outputs": [],
   "source": [
    "## Python Script for the Final Project, Stats 506 F20\n",
    "##\n",
    "## For adults who weigh less than they were 10 years ago, what nutrient\n",
    "## intake and demographic factors are important for them now?\n",
    "##\n",
    "## Data source: National Health and Nutrition Examination Survey (NHANES)\n",
    "## https://wwwn.cdc.gov/Nchs/Nhanes/2015-2016\n",
    "## https://wwwn.cdc.gov/Nchs/Nhanes/2017-2018 \n",
    "##\n",
    "## Author: Yingyi Yang, yyingyi@umich.edu\n",
    "## Updated: December 15, 2020\n",
    "\n",
    "#! Limit lines to 79 characters with rare exceptions. \n",
    "# 79: -------------------------------------------------------------------------"
   ]
  },
  {
   "cell_type": "code",
   "execution_count": 168,
   "metadata": {},
   "outputs": [],
   "source": [
    "%matplotlib inline\n",
    "import pandas as pd\n",
    "import numpy as np\n",
    "import matplotlib.pyplot as plt"
   ]
  },
  {
   "cell_type": "code",
   "execution_count": 3,
   "metadata": {},
   "outputs": [],
   "source": [
    "import warnings\n",
    "def ignore_warn(*args, **kwargs):\n",
    "    pass\n",
    "warnings.warn = ignore_warn"
   ]
  },
  {
   "cell_type": "markdown",
   "metadata": {},
   "source": [
    "### 1. Data preprocessing "
   ]
  },
  {
   "cell_type": "code",
   "execution_count": 190,
   "metadata": {},
   "outputs": [],
   "source": [
    "def prep_data(year):\n",
    "    \"\"\"\n",
    "    Function to read nhanes data based on year codes and merge them into one \n",
    "    dataframe.\n",
    "    Input: year - list of alphabet representing year of concern\n",
    "    Output: a dataframe containing required covariates and response variable\n",
    "    \"\"\"\n",
    "    \n",
    "    base = 'data/'\n",
    "    \n",
    "    files = []\n",
    "    \n",
    "    var = [\n",
    "        ['SEQN', 'RIAGENDR', 'RIDAGEYR', 'DMDEDUC2', 'INDHHIN2'],\n",
    "        ['SEQN', 'DR1DRSTZ', 'DR1TKCAL', 'DR1TPROT', 'DR1TCARB', 'DR1TSUGR', \n",
    "         'DR1TFIBE', 'DR1TTFAT', 'DR1TSFAT', 'DR1TMFAT', 'DR1TPFAT', 'DR1TCHOL'],\n",
    "        ['SEQN', 'WHD020', 'WHD110']\n",
    "    ]\n",
    "    \n",
    "    out = pd.DataFrame()\n",
    "    for code in year:\n",
    "        names = [x+'_'+code+'.XPT' for x in ['DEMO', 'DR1TOT', 'WHQ']]\n",
    "\n",
    "        da = []\n",
    "        for idf, fn in enumerate(names):\n",
    "            df = pd.read_sas(os.path.join(base, fn))\n",
    "            df = df.loc[:, var[idf]]\n",
    "            da.append(df)\n",
    "            \n",
    "        dx = pd.merge(da[0], da[1], left_on='SEQN', right_on='SEQN')\n",
    "        dx = pd.merge(dx, da[2], left_on='SEQN', right_on='SEQN')\n",
    "\n",
    "        # encode sex groups\n",
    "        dx['Female'] = (dx.RIAGENDR == 2).astype(np.int)   \n",
    "        \n",
    "        dx.dropna(inplace = True)\n",
    "        out = out.append(dx)\n",
    "    \n",
    "    out['Wloss'] = (out['WHD020'] < out['WHD110']-5.0).astype(np.int)\n",
    "    \n",
    "    # remove values that are not reliable\n",
    "    out = out[(out['DR1DRSTZ'] == 1) & (out['DMDEDUC2'] <= 5) &\n",
    "             (out['INDHHIN2'] <= 15)]\n",
    "    out.drop(['SEQN', 'RIAGENDR', 'WHD020', 'WHD110', 'DR1DRSTZ'], \n",
    "             axis=1, inplace=True)\n",
    "\n",
    "    out.rename(columns={'RIAGENDR': 'Gender',\n",
    "                        'RIDAGEYR': 'Age',\n",
    "                        'DMDEDUC2': 'Education',\n",
    "                        'INDHHIN2': 'Household income',\n",
    "                        'DR1TKCAL': 'Energy',\n",
    "                        'DR1TPROT': 'Protein', \n",
    "                        'DR1TCARB': 'Carbohydrate',\n",
    "                        'DR1TSUGR': 'Sugars',\n",
    "                        'DR1TFIBE': 'Fiber',\n",
    "                        'DR1TTFAT': 'Fat',\n",
    "                        'DR1TSFAT': 'Saturated fatty acids',\n",
    "                        'DR1TMFAT': 'Monounsaturated fatty acids',\n",
    "                        'DR1TPFAT': 'Polyunsaturated fatty acids',\n",
    "                        'DR1TCHOL': 'Cholesterol'}, inplace=True)\n",
    "    \n",
    "    return out    "
   ]
  },
  {
   "cell_type": "code",
   "execution_count": 191,
   "metadata": {},
   "outputs": [
    {
     "data": {
      "text/plain": [
       "(6711, 15)"
      ]
     },
     "execution_count": 191,
     "metadata": {},
     "output_type": "execute_result"
    }
   ],
   "source": [
    "df = prep_data(['I','J'])\n",
    "df.shape"
   ]
  },
  {
   "cell_type": "code",
   "execution_count": 192,
   "metadata": {},
   "outputs": [
    {
     "data": {
      "text/html": [
       "<div>\n",
       "<style scoped>\n",
       "    .dataframe tbody tr th:only-of-type {\n",
       "        vertical-align: middle;\n",
       "    }\n",
       "\n",
       "    .dataframe tbody tr th {\n",
       "        vertical-align: top;\n",
       "    }\n",
       "\n",
       "    .dataframe thead th {\n",
       "        text-align: right;\n",
       "    }\n",
       "</style>\n",
       "<table border=\"1\" class=\"dataframe\">\n",
       "  <thead>\n",
       "    <tr style=\"text-align: right;\">\n",
       "      <th></th>\n",
       "      <th>Age</th>\n",
       "      <th>Education</th>\n",
       "      <th>Household income</th>\n",
       "      <th>Energy</th>\n",
       "      <th>Protein</th>\n",
       "      <th>Carbohydrate</th>\n",
       "      <th>Sugars</th>\n",
       "      <th>Fiber</th>\n",
       "      <th>Fat</th>\n",
       "      <th>Saturated fatty acids</th>\n",
       "      <th>Monounsaturated fatty acids</th>\n",
       "      <th>Polyunsaturated fatty acids</th>\n",
       "      <th>Cholesterol</th>\n",
       "      <th>Female</th>\n",
       "      <th>Wloss</th>\n",
       "    </tr>\n",
       "  </thead>\n",
       "  <tbody>\n",
       "    <tr>\n",
       "      <th>0</th>\n",
       "      <td>62.0</td>\n",
       "      <td>5.0</td>\n",
       "      <td>10.0</td>\n",
       "      <td>1781.0</td>\n",
       "      <td>76.03</td>\n",
       "      <td>193.29</td>\n",
       "      <td>42.31</td>\n",
       "      <td>23.6</td>\n",
       "      <td>79.24</td>\n",
       "      <td>23.430</td>\n",
       "      <td>31.897</td>\n",
       "      <td>18.528</td>\n",
       "      <td>138.0</td>\n",
       "      <td>0</td>\n",
       "      <td>1</td>\n",
       "    </tr>\n",
       "    <tr>\n",
       "      <th>1</th>\n",
       "      <td>53.0</td>\n",
       "      <td>3.0</td>\n",
       "      <td>4.0</td>\n",
       "      <td>2964.0</td>\n",
       "      <td>62.36</td>\n",
       "      <td>356.85</td>\n",
       "      <td>180.84</td>\n",
       "      <td>7.3</td>\n",
       "      <td>77.91</td>\n",
       "      <td>25.722</td>\n",
       "      <td>19.098</td>\n",
       "      <td>19.216</td>\n",
       "      <td>407.0</td>\n",
       "      <td>0</td>\n",
       "      <td>0</td>\n",
       "    </tr>\n",
       "    <tr>\n",
       "      <th>2</th>\n",
       "      <td>78.0</td>\n",
       "      <td>3.0</td>\n",
       "      <td>5.0</td>\n",
       "      <td>2482.0</td>\n",
       "      <td>116.50</td>\n",
       "      <td>304.53</td>\n",
       "      <td>62.87</td>\n",
       "      <td>35.1</td>\n",
       "      <td>91.97</td>\n",
       "      <td>23.122</td>\n",
       "      <td>28.666</td>\n",
       "      <td>32.561</td>\n",
       "      <td>506.0</td>\n",
       "      <td>0</td>\n",
       "      <td>1</td>\n",
       "    </tr>\n",
       "    <tr>\n",
       "      <th>3</th>\n",
       "      <td>56.0</td>\n",
       "      <td>5.0</td>\n",
       "      <td>10.0</td>\n",
       "      <td>1340.0</td>\n",
       "      <td>70.38</td>\n",
       "      <td>157.99</td>\n",
       "      <td>54.77</td>\n",
       "      <td>14.0</td>\n",
       "      <td>49.23</td>\n",
       "      <td>17.593</td>\n",
       "      <td>18.327</td>\n",
       "      <td>9.588</td>\n",
       "      <td>138.0</td>\n",
       "      <td>1</td>\n",
       "      <td>0</td>\n",
       "    </tr>\n",
       "    <tr>\n",
       "      <th>4</th>\n",
       "      <td>42.0</td>\n",
       "      <td>4.0</td>\n",
       "      <td>7.0</td>\n",
       "      <td>604.0</td>\n",
       "      <td>19.30</td>\n",
       "      <td>90.30</td>\n",
       "      <td>71.84</td>\n",
       "      <td>2.0</td>\n",
       "      <td>19.63</td>\n",
       "      <td>4.581</td>\n",
       "      <td>8.504</td>\n",
       "      <td>3.889</td>\n",
       "      <td>96.0</td>\n",
       "      <td>1</td>\n",
       "      <td>0</td>\n",
       "    </tr>\n",
       "  </tbody>\n",
       "</table>\n",
       "</div>"
      ],
      "text/plain": [
       "    Age  Education  Household income  Energy  Protein  Carbohydrate  Sugars  \\\n",
       "0  62.0        5.0              10.0  1781.0    76.03        193.29   42.31   \n",
       "1  53.0        3.0               4.0  2964.0    62.36        356.85  180.84   \n",
       "2  78.0        3.0               5.0  2482.0   116.50        304.53   62.87   \n",
       "3  56.0        5.0              10.0  1340.0    70.38        157.99   54.77   \n",
       "4  42.0        4.0               7.0   604.0    19.30         90.30   71.84   \n",
       "\n",
       "   Fiber    Fat  Saturated fatty acids  Monounsaturated fatty acids  \\\n",
       "0   23.6  79.24                 23.430                       31.897   \n",
       "1    7.3  77.91                 25.722                       19.098   \n",
       "2   35.1  91.97                 23.122                       28.666   \n",
       "3   14.0  49.23                 17.593                       18.327   \n",
       "4    2.0  19.63                  4.581                        8.504   \n",
       "\n",
       "   Polyunsaturated fatty acids  Cholesterol  Female  Wloss  \n",
       "0                       18.528        138.0       0      1  \n",
       "1                       19.216        407.0       0      0  \n",
       "2                       32.561        506.0       0      1  \n",
       "3                        9.588        138.0       1      0  \n",
       "4                        3.889         96.0       1      0  "
      ]
     },
     "execution_count": 192,
     "metadata": {},
     "output_type": "execute_result"
    }
   ],
   "source": [
    "df.head()"
   ]
  },
  {
   "cell_type": "markdown",
   "metadata": {},
   "source": [
    "### 2. Feature selection "
   ]
  },
  {
   "cell_type": "code",
   "execution_count": 79,
   "metadata": {},
   "outputs": [],
   "source": [
    "from sklearn import preprocessing\n",
    "from sklearn.linear_model import LogisticRegression\n",
    "from sklearn.tree import DecisionTreeClassifier\n",
    "import statsmodels.api as sm\n",
    "from sklearn.feature_selection import RFE\n",
    "import seaborn as sns"
   ]
  },
  {
   "cell_type": "code",
   "execution_count": 232,
   "metadata": {},
   "outputs": [],
   "source": [
    "def featureSelection(data, n, method = 'Model_LR'):\n",
    "    \"\"\"\n",
    "    Function to fit model and generate features based on the input method.\n",
    "    Inputs: data - a dataframe containing covariates and response variable\n",
    "            n - an integer representing top n important features\n",
    "            method - a string containing feature selection method \n",
    "            (Model: model-based, RFE: recursive feature elimination) and model \n",
    "            (LR: logistic regression, tree: decision tree)\n",
    "    Output: a figure or dataframe representing selected features\n",
    "    \"\"\"\n",
    " \n",
    "    X = data.iloc[:,:-1]\n",
    "    y = data.iloc[:,-1]\n",
    "    \n",
    "    # standardize columns of X\n",
    "    scaler = preprocessing.StandardScaler()\n",
    "    scaled_X = scaler.fit_transform(X)\n",
    "    X = pd.DataFrame(scaled_X, columns=X.columns)\n",
    "    \n",
    "    if method == 'Model_LR':\n",
    "        LR = sm.Logit(y.values.reshape(-1,1), X).fit()\n",
    "        \n",
    "        # select significant variables\n",
    "        idx = (LR.pvalues < 0.1)\n",
    "        coeffs = pd.DataFrame({'Feature coeffs':LR.params[idx]})\n",
    "        \n",
    "        coeffs = coeffs.iloc[(-coeffs['Feature coeffs'].abs()).argsort()\n",
    "                   ].reset_index(level=0).rename(\n",
    "                     columns={'index':'Feature name'}).iloc[:n,:]\n",
    "        \n",
    "        # output results\n",
    "        coeffs.to_csv('results/Model_LR.csv')\n",
    "\n",
    "        plt.figure(figsize=(6,6))\n",
    "        plt.title(\"Coefficients\")\n",
    "        sns.barplot(x=\"Feature coeffs\", y=\"Feature name\", \n",
    "                    data=coeffs, palette='Blues')  \n",
    "    \n",
    "    if method == 'Model_tree':\n",
    "        tree = DecisionTreeClassifier()\n",
    "        tree.fit(X, y)      \n",
    "        importances = tree.feature_importances_\n",
    "        imp_df = pd.DataFrame({'Feature name':X.columns.values, \n",
    "                               'Feature importance':importances}\n",
    "                             ).sort_values('Feature importance', \n",
    "                                           ascending=False).iloc[:n,:]\n",
    "        \n",
    "        # output results\n",
    "        imp_df.to_csv('results/Model_tree.csv')\n",
    "\n",
    "        plt.figure(figsize=(6,6))\n",
    "        plt.title(\"Feature Importance\")\n",
    "        sns.barplot(x=\"Feature importance\", y=\"Feature name\", \n",
    "                    data=imp_df, palette='Blues')\n",
    "        \n",
    "    if method == 'RFE_LR':\n",
    "        LR = LogisticRegression()\n",
    "        trans = RFE(LR, n_features_to_select=n)\n",
    "        X_trans = trans.fit_transform(X, y)\n",
    "        features = X.columns.values[trans.get_support()]\n",
    "        imp_df = pd.DataFrame(features)\n",
    "        \n",
    "        # output results\n",
    "        imp_df.to_csv('results/RFE_LR.csv')\n",
    "   \n",
    "        for i in range(X.shape[1]):\n",
    "            print('Variable: %s, Selected %s, Rank: %.3f' % \n",
    "                  (X.columns.values[i], trans.support_[i], trans.ranking_[i]))\n",
    "        \n",
    "    if method == 'RFE_tree':\n",
    "        tree = DecisionTreeClassifier()\n",
    "        trans = RFE(tree, n_features_to_select=n)\n",
    "        X_trans = trans.fit_transform(X, y)\n",
    "        features = X.columns.values[trans.get_support()]\n",
    "        imp_df = pd.DataFrame(features)\n",
    "        \n",
    "        # output results\n",
    "        imp_df.to_csv('results/RFE_tree.csv')\n",
    "        \n",
    "        for i in range(X.shape[1]):\n",
    "            print('Variable: %s, Selected %s, Rank: %.3f' % \n",
    "                  (X.columns.values[i], trans.support_[i], trans.ranking_[i]))       "
   ]
  },
  {
   "cell_type": "markdown",
   "metadata": {},
   "source": [
    "### 3. Results visualization "
   ]
  },
  {
   "cell_type": "code",
   "execution_count": 233,
   "metadata": {},
   "outputs": [
    {
     "name": "stdout",
     "output_type": "stream",
     "text": [
      "Optimization terminated successfully.\n",
      "         Current function value: 0.676256\n",
      "         Iterations 4\n"
     ]
    },
    {
     "data": {
      "image/png": "[encoded data removed]",
      "text/plain": [
       "<Figure size 432x432 with 1 Axes>"
      ]
     },
     "metadata": {
      "needs_background": "light"
     },
     "output_type": "display_data"
    }
   ],
   "source": [
    "featureSelection(df, 5, 'Model_LR')"
   ]
  },
  {
   "cell_type": "code",
   "execution_count": 234,
   "metadata": {},
   "outputs": [
    {
     "data": {
      "image/png": "[encoded data removed]",
      "text/plain": [
       "<Figure size 432x432 with 1 Axes>"
      ]
     },
     "metadata": {
      "needs_background": "light"
     },
     "output_type": "display_data"
    }
   ],
   "source": [
    "featureSelection(df, 5, 'Model_tree')"
   ]
  },
  {
   "cell_type": "code",
   "execution_count": 235,
   "metadata": {},
   "outputs": [
    {
     "name": "stdout",
     "output_type": "stream",
     "text": [
      "Variable: Age, Selected True, Rank: 1.000\n",
      "Variable: Education, Selected False, Rank: 3.000\n",
      "Variable: Household income, Selected False, Rank: 6.000\n",
      "Variable: Energy, Selected True, Rank: 1.000\n",
      "Variable: Protein, Selected False, Rank: 7.000\n",
      "Variable: Carbohydrate, Selected False, Rank: 10.000\n",
      "Variable: Sugars, Selected False, Rank: 8.000\n",
      "Variable: Fiber, Selected False, Rank: 5.000\n",
      "Variable: Fat, Selected True, Rank: 1.000\n",
      "Variable: Saturated fatty acids, Selected False, Rank: 4.000\n",
      "Variable: Monounsaturated fatty acids, Selected True, Rank: 1.000\n",
      "Variable: Polyunsaturated fatty acids, Selected False, Rank: 2.000\n",
      "Variable: Cholesterol, Selected False, Rank: 9.000\n",
      "Variable: Female, Selected True, Rank: 1.000\n"
     ]
    }
   ],
   "source": [
    "featureSelection(df, 5, 'RFE_LR')"
   ]
  },
  {
   "cell_type": "code",
   "execution_count": 236,
   "metadata": {},
   "outputs": [
    {
     "name": "stdout",
     "output_type": "stream",
     "text": [
      "Variable: Age, Selected False, Rank: 6.000\n",
      "Variable: Education, Selected False, Rank: 9.000\n",
      "Variable: Household income, Selected False, Rank: 7.000\n",
      "Variable: Energy, Selected True, Rank: 1.000\n",
      "Variable: Protein, Selected True, Rank: 1.000\n",
      "Variable: Carbohydrate, Selected False, Rank: 3.000\n",
      "Variable: Sugars, Selected False, Rank: 2.000\n",
      "Variable: Fiber, Selected True, Rank: 1.000\n",
      "Variable: Fat, Selected False, Rank: 8.000\n",
      "Variable: Saturated fatty acids, Selected True, Rank: 1.000\n",
      "Variable: Monounsaturated fatty acids, Selected True, Rank: 1.000\n",
      "Variable: Polyunsaturated fatty acids, Selected False, Rank: 5.000\n",
      "Variable: Cholesterol, Selected False, Rank: 4.000\n",
      "Variable: Female, Selected False, Rank: 10.000\n"
     ]
    }
   ],
   "source": [
    "featureSelection(df, 5, 'RFE_tree')"
   ]
  }
 ],
 "metadata": {
  "kernelspec": {
   "display_name": "Python 3",
   "language": "python",
   "name": "python3"
  },
  "language_info": {
   "codemirror_mode": {
    "name": "ipython",
    "version": 3
   },
   "file_extension": ".py",
   "mimetype": "text/x-python",
   "name": "python",
   "nbconvert_exporter": "python",
   "pygments_lexer": "ipython3",
   "version": "3.7.7"
  }
 },
 "nbformat": 4,
 "nbformat_minor": 4
}
